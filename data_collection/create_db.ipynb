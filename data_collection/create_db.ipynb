{
 "cells": [
  {
   "cell_type": "code",
   "execution_count": 1,
   "metadata": {},
   "outputs": [],
   "source": [
    "# Importing the Libraries Required\n",
    "\n",
    "import os\n",
    "import string\n",
    "\n",
    "# Creating the directory Structure\n",
    "\n",
    "if not os.path.exists(\"dataSet\"):\n",
    "    os.makedirs(\"dataSet\")\n",
    "\n",
    "if not os.path.exists(\"dataSet/trainingData\"):\n",
    "    os.makedirs(\"dataSet/trainingData\")\n",
    "\n",
    "if not os.path.exists(\"dataSet/testingData\"):\n",
    "    os.makedirs(\"dataSet/testingData\")\n",
    "\n",
    "# Making folder  0 (i.e blank) in the training and testing data folders respectively\n",
    "for i in range(0):\n",
    "    if not os.path.exists(\"dataSet/trainingData/\" + str(i)):\n",
    "        os.makedirs(\"dataSet/trainingData/\" + str(i))\n",
    "\n",
    "    if not os.path.exists(\"dataSet/testingData/\" + str(i)):\n",
    "        os.makedirs(\"dataSet/testingData/\" + str(i))\n",
    "\n",
    "# Making Folders from A to Z in the training and testing data folders respectively\n",
    "\n",
    "for i in string.ascii_uppercase:\n",
    "    if not os.path.exists(\"dataSet/trainingData/\" + i):\n",
    "        os.makedirs(\"dataSet/trainingData/\" + i)\n",
    "    \n",
    "    if not os.path.exists(\"dataSet/testingData/\" + i):\n",
    "        os.makedirs(\"dataSet/testingData/\" + i)"
   ]
  }
 ],
 "metadata": {
  "kernelspec": {
   "display_name": "base",
   "language": "python",
   "name": "python3"
  },
  "language_info": {
   "codemirror_mode": {
    "name": "ipython",
    "version": 3
   },
   "file_extension": ".py",
   "mimetype": "text/x-python",
   "name": "python",
   "nbconvert_exporter": "python",
   "pygments_lexer": "ipython3",
   "version": "3.9.18"
  }
 },
 "nbformat": 4,
 "nbformat_minor": 2
}
