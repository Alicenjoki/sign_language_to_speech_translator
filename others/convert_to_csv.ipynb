{
 "cells": [
  {
   "cell_type": "code",
   "execution_count": 1,
   "metadata": {},
   "outputs": [
    {
     "name": "stdout",
     "output_type": "stream",
     "text": [
      "Data converted and saved to asl_data.csv\n"
     ]
    }
   ],
   "source": [
    "import os\n",
    "import cv2\n",
    "import pandas as pd\n",
    "\n",
    "# Define constants\n",
    "IMAGE_SIZE = (64, 64)\n",
    "DATASET_PATH = '/home/alice/Desktop/t_set'\n",
    "CSV_FILENAME = 'asl_data.csv'\n",
    "\n",
    "# Function to extract features from images\n",
    "def extract_features(image):\n",
    "    # Resize image to a fixed size\n",
    "    resized_image = cv2.resize(image, IMAGE_SIZE)\n",
    "    # Flatten pixel values to create a feature vector\n",
    "    flattened_image = resized_image.flatten()\n",
    "    return flattened_image\n",
    "\n",
    "# Iterate through the dataset directory\n",
    "data = []\n",
    "labels = []\n",
    "for label in os.listdir(DATASET_PATH):\n",
    "    label_path = os.path.join(DATASET_PATH, label)\n",
    "    if os.path.isdir(label_path):\n",
    "        for filename in os.listdir(label_path):\n",
    "            filepath = os.path.join(label_path, filename)\n",
    "            # Load and preprocess image\n",
    "            image = cv2.imread(filepath)\n",
    "            if image is not None:\n",
    "                # Extract features and append to data list\n",
    "                features = extract_features(image)\n",
    "                data.append(features)\n",
    "                # Append label to labels list\n",
    "                labels.append(label)\n",
    "\n",
    "# Convert lists to DataFrame\n",
    "df = pd.DataFrame(data)\n",
    "# Add column for labels\n",
    "df['label'] = labels\n",
    "\n",
    "# Save DataFrame to CSV\n",
    "df.to_csv(CSV_FILENAME, index=False)\n",
    "\n",
    "print(\"Data converted and saved to asl_data.csv\")"
   ]
  }
 ],
 "metadata": {
  "kernelspec": {
   "display_name": "base",
   "language": "python",
   "name": "python3"
  },
  "language_info": {
   "codemirror_mode": {
    "name": "ipython",
    "version": 3
   },
   "file_extension": ".py",
   "mimetype": "text/x-python",
   "name": "python",
   "nbconvert_exporter": "python",
   "pygments_lexer": "ipython3",
   "version": "3.9.18"
  }
 },
 "nbformat": 4,
 "nbformat_minor": 2
}
