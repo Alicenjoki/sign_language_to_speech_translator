{
 "cells": [
  {
   "cell_type": "markdown",
   "metadata": {},
   "source": [
    "importing all libraries needed"
   ]
  },
  {
   "cell_type": "code",
   "execution_count": 1,
   "metadata": {},
   "outputs": [
    {
     "name": "stderr",
     "output_type": "stream",
     "text": [
      "2024-04-02 23:52:42.775293: I tensorflow/tsl/cuda/cudart_stub.cc:28] Could not find cuda drivers on your machine, GPU will not be used.\n",
      "2024-04-02 23:53:07.627299: I tensorflow/tsl/cuda/cudart_stub.cc:28] Could not find cuda drivers on your machine, GPU will not be used.\n",
      "2024-04-02 23:54:05.428950: W tensorflow/compiler/tf2tensorrt/utils/py_utils.cc:38] TF-TRT Warning: Could not find TensorRT\n"
     ]
    }
   ],
   "source": [
    "import tensorflow as tf\n",
    "from keras.preprocessing.image import ImageDataGenerator\n",
    "from keras.models import Sequential\n",
    "from keras.layers import Conv2D, MaxPooling2D, Flatten, Dense, Dropout"
   ]
  },
  {
   "cell_type": "markdown",
   "metadata": {},
   "source": [
    "Generating images for training set"
   ]
  },
  {
   "cell_type": "code",
   "execution_count": 2,
   "metadata": {},
   "outputs": [],
   "source": [
    "train_datagen = ImageDataGenerator(rescale=1./255,\n",
    "                                   shear_range=0.2,\n",
    "                                   zoom_range=0.2,\n",
    "                                   horizontal_flip=True,\n",
    "                                   rotation_range=40,\n",
    "                                   width_shift_range=0.2,\n",
    "                                   height_shift_range=0.2,\n",
    "                                   fill_mode='nearest')"
   ]
  },
  {
   "cell_type": "markdown",
   "metadata": {},
   "source": [
    "Generating images for testing set"
   ]
  },
  {
   "cell_type": "code",
   "execution_count": 3,
   "metadata": {},
   "outputs": [],
   "source": [
    "test_datagen = ImageDataGenerator(rescale=1./255)"
   ]
  },
  {
   "cell_type": "code",
   "execution_count": 4,
   "metadata": {},
   "outputs": [
    {
     "name": "stdout",
     "output_type": "stream",
     "text": [
      "Found 1540 images belonging to 27 classes.\n"
     ]
    }
   ],
   "source": [
    "training_set = train_datagen.flow_from_directory('/home/alice/Desktop/Project/data_collection/dataSet/trainingData',\n",
    "                                                 target_size=(128, 128),\n",
    "                                                 batch_size=32,\n",
    "                                                 class_mode='categorical')"
   ]
  },
  {
   "cell_type": "code",
   "execution_count": 5,
   "metadata": {},
   "outputs": [
    {
     "name": "stdout",
     "output_type": "stream",
     "text": [
      "Found 773 images belonging to 27 classes.\n"
     ]
    }
   ],
   "source": [
    "test_set = test_datagen.flow_from_directory('/home/alice/Desktop/Project/data_collection/dataSet/testingData',\n",
    "                                            target_size=(128, 128),\n",
    "                                            batch_size=32,\n",
    "                                            class_mode='categorical')"
   ]
  },
  {
   "cell_type": "code",
   "execution_count": 6,
   "metadata": {},
   "outputs": [],
   "source": [
    "classifier = Sequential()"
   ]
  },
  {
   "cell_type": "code",
   "execution_count": 7,
   "metadata": {},
   "outputs": [],
   "source": [
    "classifier.add(Conv2D(32, (3, 3), input_shape=(128, 128, 3), activation='relu'))\n",
    "classifier.add(MaxPooling2D(pool_size=(2, 2)))\n",
    "\n",
    "classifier.add(Conv2D(64, (3, 3), activation='relu'))\n",
    "classifier.add(MaxPooling2D(pool_size=(2, 2)))\n",
    "\n",
    "classifier.add(Conv2D(128, (3, 3), activation='relu'))\n",
    "classifier.add(MaxPooling2D(pool_size=(2, 2)))"
   ]
  },
  {
   "cell_type": "code",
   "execution_count": 8,
   "metadata": {},
   "outputs": [],
   "source": [
    "classifier.add(Flatten())"
   ]
  },
  {
   "cell_type": "code",
   "execution_count": 9,
   "metadata": {},
   "outputs": [],
   "source": [
    "classifier.add(Dense(units=128, activation='relu'))\n",
    "classifier.add(Dropout(0.5))\n",
    "\n",
    "classifier.add(Dense(units=64, activation='relu'))\n",
    "classifier.add(Dropout(0.5))\n",
    "\n",
    "classifier.add(Dense(units=27, activation='softmax'))"
   ]
  },
  {
   "cell_type": "code",
   "execution_count": 10,
   "metadata": {},
   "outputs": [],
   "source": [
    "classifier.compile(optimizer='adam', loss='categorical_crossentropy', metrics=['accuracy'])"
   ]
  },
  {
   "cell_type": "code",
   "execution_count": 14,
   "metadata": {},
   "outputs": [
    {
     "name": "stdout",
     "output_type": "stream",
     "text": [
      "Epoch 1/20\n",
      "49/49 [==============================] - 79s 2s/step - loss: 3.2305 - accuracy: 0.0636 - val_loss: 3.2167 - val_accuracy: 0.0686\n",
      "Epoch 2/20\n",
      "49/49 [==============================] - 71s 1s/step - loss: 3.2285 - accuracy: 0.0623 - val_loss: 3.2165 - val_accuracy: 0.0686\n",
      "Epoch 3/20\n",
      "49/49 [==============================] - 70s 1s/step - loss: 3.2270 - accuracy: 0.0630 - val_loss: 3.2160 - val_accuracy: 0.0686\n",
      "Epoch 4/20\n",
      "49/49 [==============================] - 72s 1s/step - loss: 3.2279 - accuracy: 0.0643 - val_loss: 3.2157 - val_accuracy: 0.0686\n",
      "Epoch 5/20\n",
      "49/49 [==============================] - 95s 2s/step - loss: 3.2222 - accuracy: 0.0643 - val_loss: 3.2151 - val_accuracy: 0.0686\n",
      "Epoch 6/20\n",
      "49/49 [==============================] - 76s 1s/step - loss: 3.2224 - accuracy: 0.0649 - val_loss: 3.2148 - val_accuracy: 0.0686\n",
      "Epoch 7/20\n",
      "49/49 [==============================] - 70s 1s/step - loss: 3.2200 - accuracy: 0.0649 - val_loss: 3.2146 - val_accuracy: 0.0686\n",
      "Epoch 8/20\n",
      "49/49 [==============================] - 71s 1s/step - loss: 3.2222 - accuracy: 0.0656 - val_loss: 3.2140 - val_accuracy: 0.0686\n",
      "Epoch 9/20\n",
      "49/49 [==============================] - 70s 1s/step - loss: 3.2210 - accuracy: 0.0643 - val_loss: 3.2138 - val_accuracy: 0.0686\n",
      "Epoch 10/20\n",
      "49/49 [==============================] - 71s 1s/step - loss: 3.2248 - accuracy: 0.0643 - val_loss: 3.2138 - val_accuracy: 0.0686\n",
      "Epoch 11/20\n",
      "49/49 [==============================] - 70s 1s/step - loss: 3.2216 - accuracy: 0.0643 - val_loss: 3.2138 - val_accuracy: 0.0686\n",
      "Epoch 12/20\n",
      "49/49 [==============================] - 69s 1s/step - loss: 3.2213 - accuracy: 0.0649 - val_loss: 3.2137 - val_accuracy: 0.0686\n",
      "Epoch 13/20\n",
      "49/49 [==============================] - 70s 1s/step - loss: 3.2191 - accuracy: 0.0643 - val_loss: 3.2135 - val_accuracy: 0.0686\n",
      "Epoch 14/20\n",
      "49/49 [==============================] - 152s 3s/step - loss: 3.2206 - accuracy: 0.0643 - val_loss: 3.2132 - val_accuracy: 0.0686\n",
      "Epoch 15/20\n",
      "49/49 [==============================] - 130s 3s/step - loss: 3.2187 - accuracy: 0.0636 - val_loss: 3.2132 - val_accuracy: 0.0686\n",
      "Epoch 16/20\n",
      "49/49 [==============================] - 76s 2s/step - loss: 3.2234 - accuracy: 0.0643 - val_loss: 3.2131 - val_accuracy: 0.0686\n",
      "Epoch 17/20\n",
      "49/49 [==============================] - 69s 1s/step - loss: 3.2209 - accuracy: 0.0649 - val_loss: 3.2128 - val_accuracy: 0.0686\n",
      "Epoch 18/20\n",
      "49/49 [==============================] - 70s 1s/step - loss: 3.2209 - accuracy: 0.0643 - val_loss: 3.2131 - val_accuracy: 0.0686\n",
      "Epoch 19/20\n",
      "49/49 [==============================] - 71s 1s/step - loss: 3.2149 - accuracy: 0.0649 - val_loss: 3.2124 - val_accuracy: 0.0686\n",
      "Epoch 20/20\n",
      "49/49 [==============================] - 71s 1s/step - loss: 3.2204 - accuracy: 0.0649 - val_loss: 3.2123 - val_accuracy: 0.0686\n"
     ]
    },
    {
     "data": {
      "text/plain": [
       "<keras.src.callbacks.History at 0x7fd6484dd850>"
      ]
     },
     "execution_count": 14,
     "metadata": {},
     "output_type": "execute_result"
    }
   ],
   "source": [
    "classifier.fit(training_set,\n",
    "               epochs=20,  # Increase the number of epochs\n",
    "               validation_data=test_set)"
   ]
  },
  {
   "cell_type": "code",
   "execution_count": 15,
   "metadata": {},
   "outputs": [
    {
     "name": "stdout",
     "output_type": "stream",
     "text": [
      "25/25 [==============================] - 10s 322ms/step - loss: 3.2123 - accuracy: 0.0686\n",
      "Test Loss: 3.2123, Test Accuracy: 0.0686\n"
     ]
    }
   ],
   "source": [
    "loss, accuracy = classifier.evaluate(test_set)\n",
    "print(f'Test Loss: {loss:.4f}, Test Accuracy: {accuracy:.4f}')"
   ]
  }
 ],
 "metadata": {
  "kernelspec": {
   "display_name": "base",
   "language": "python",
   "name": "python3"
  },
  "language_info": {
   "codemirror_mode": {
    "name": "ipython",
    "version": 3
   },
   "file_extension": ".py",
   "mimetype": "text/x-python",
   "name": "python",
   "nbconvert_exporter": "python",
   "pygments_lexer": "ipython3",
   "version": "3.9.18"
  }
 },
 "nbformat": 4,
 "nbformat_minor": 2
}
